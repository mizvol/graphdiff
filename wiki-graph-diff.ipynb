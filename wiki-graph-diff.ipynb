{
 "cells": [
  {
   "cell_type": "markdown",
   "metadata": {},
   "source": [
    "# Compare Wikipedia dumps"
   ]
  },
  {
   "cell_type": "code",
   "execution_count": 1,
   "metadata": {},
   "outputs": [],
   "source": [
    "from pyspark.sql import SparkSession\n",
    "from pyspark.sql import SQLContext\n",
    "from matplotlib import pyplot as plt\n",
    "import numpy as np"
   ]
  },
  {
   "cell_type": "markdown",
   "metadata": {},
   "source": [
    "## Read the graphs"
   ]
  },
  {
   "cell_type": "code",
   "execution_count": 2,
   "metadata": {},
   "outputs": [],
   "source": [
    "# path to Parquet files\n",
    "DATA_PATH = \"/mnt/data/wikipedia/dumps-pre-processed/\""
   ]
  },
  {
   "cell_type": "code",
   "execution_count": 3,
   "metadata": {},
   "outputs": [],
   "source": [
    "# initialise sparkContext\n",
    "spark = SparkSession.builder \\\n",
    "    .master('local') \\\n",
    "    .appName('GraphDiff') \\\n",
    "    .config('spark.executor.memory', '32gb') \\\n",
    "    .config(\"spark.cores.max\", \"*\") \\\n",
    "    .getOrCreate()\n",
    "\n",
    "sc = spark.sparkContext\n",
    "sqlContext = SQLContext(sc)"
   ]
  },
  {
   "cell_type": "code",
   "execution_count": 4,
   "metadata": {},
   "outputs": [],
   "source": [
    "# read pages and categories into a DF\n",
    "normal_pages_20190601_df = sqlContext.read.parquet(DATA_PATH + \"20190601/page/normal_pages/*\")\n",
    "category_pages_20190601_df = sqlContext.read.parquet(DATA_PATH + \"20190601/page/category_pages/*\")\n",
    "\n",
    "normal_pages_20190520_df = sqlContext.read.parquet(DATA_PATH + \"20190520/page/normal_pages/*\")\n",
    "category_pages_20190520_df = sqlContext.read.parquet(DATA_PATH + \"20190520/page/category_pages/*\")\n",
    "\n",
    "normal_pages_20190501_df = sqlContext.read.parquet(DATA_PATH + \"20190501/page/normal_pages/*\")\n",
    "category_pages_20190501_df = sqlContext.read.parquet(DATA_PATH + \"20190501/page/category_pages/*\")\n",
    "\n",
    "normal_pages_20190420_df = sqlContext.read.parquet(DATA_PATH + \"20190420/page/normal_pages/*\")\n",
    "category_pages_20190420_df = sqlContext.read.parquet(DATA_PATH + \"20190420/page/category_pages/*\")\n",
    "\n",
    "normal_pages_20190401_df = sqlContext.read.parquet(DATA_PATH + \"20190401/page/normal_pages/*\")\n",
    "category_pages_20190401_df = sqlContext.read.parquet(DATA_PATH + \"20190401/page/category_pages/*\")\n",
    "\n",
    "normal_pages_20190320_df = sqlContext.read.parquet(DATA_PATH + \"20190320/page/normal_pages/*\")\n",
    "category_pages_20190320_df = sqlContext.read.parquet(DATA_PATH + \"20190320/page/category_pages/*\")\n",
    "\n",
    "normal_pages_20190301_df = sqlContext.read.parquet(DATA_PATH + \"20190301/page/normal_pages/*\")\n",
    "category_pages_20190301_df = sqlContext.read.parquet(DATA_PATH + \"20190301/page/category_pages/*\")\n",
    "\n",
    "normal_pages_20180801_df = sqlContext.read.parquet(DATA_PATH + \"20180801/page/normal_pages/*\")\n",
    "category_pages_20180801_df = sqlContext.read.parquet(DATA_PATH + \"20180801/page/category_pages/*\")"
   ]
  },
  {
   "cell_type": "code",
   "execution_count": 57,
   "metadata": {},
   "outputs": [],
   "source": [
    "count_pages_20190601 = normal_pages_20190601_df.count()\n",
    "count_categories_20190601 = category_pages_20190601_df.count()\n",
    "\n",
    "count_pages_20190520 = normal_pages_20190520_df.count()\n",
    "count_categories_20190520 = category_pages_20190520_df.count()\n",
    "\n",
    "count_pages_20190501 = normal_pages_20190501_df.count()\n",
    "count_categories_20190501 = category_pages_20190501_df.count()\n",
    "\n",
    "count_pages_20190420 = normal_pages_20190420_df.count()\n",
    "count_categories_20190420 = category_pages_20190420_df.count()\n",
    "\n",
    "count_pages_20190401 = normal_pages_20190401_df.count()\n",
    "count_categories_20190401 = category_pages_20190401_df.count()\n",
    "\n",
    "count_pages_20190320 = normal_pages_20190320_df.count()\n",
    "count_categories_20190320 = category_pages_20190320_df.count()\n",
    "\n",
    "count_pages_20190301 = normal_pages_20190301_df.count()\n",
    "count_categories_20190301 = category_pages_20190301_df.count()\n",
    "\n",
    "count_pages_20180801 = normal_pages_20180801_df.count()\n",
    "count_categories_20180801 = category_pages_20180801_df.count()"
   ]
  },
  {
   "cell_type": "code",
   "execution_count": 58,
   "metadata": {},
   "outputs": [
    {
     "name": "stdout",
     "output_type": "stream",
     "text": [
      "Number of normal pages for 20190401: 5870210\n",
      "Number of category pages for 20190401: 1833697\n",
      "Number of normal pages for 20190520: 5862580\n",
      "Number of category pages for 20190520: 1830591\n",
      "Number of normal pages for 20190501: 5853009\n",
      "Number of category pages for 20190501: 1822452\n",
      "Number of normal pages for 20190420: 5847311\n",
      "Number of category pages for 20190420: 1818574\n",
      "Number of normal pages for 20190401: 5836035\n",
      "Number of category pages for 20190401: 1813729\n",
      "Number of normal pages for 20190320: 5828462\n",
      "Number of category pages for 20190320: 1810370\n",
      "Number of normal pages for 20190301: 5816996\n",
      "Number of category pages for 20190301: 1803414\n",
      "Number of normal pages for 20180801: 5690369\n",
      "Number of category pages for 20180801: 1726005\n"
     ]
    }
   ],
   "source": [
    "print(\"Number of normal pages for 20190401: \" + str(count_pages_20190601))\n",
    "print(\"Number of category pages for 20190401: \" + str(count_categories_20190601))\n",
    "\n",
    "print(\"Number of normal pages for 20190520: \" + str(count_pages_20190520))\n",
    "print(\"Number of category pages for 20190520: \" + str(count_categories_20190520))\n",
    "\n",
    "print(\"Number of normal pages for 20190501: \" + str(count_pages_20190501))\n",
    "print(\"Number of category pages for 20190501: \" + str(count_categories_20190501))\n",
    "\n",
    "print(\"Number of normal pages for 20190420: \" + str(count_pages_20190420))\n",
    "print(\"Number of category pages for 20190420: \" + str(count_categories_20190420))\n",
    "\n",
    "print(\"Number of normal pages for 20190401: \" + str(count_pages_20190401))\n",
    "print(\"Number of category pages for 20190401: \" + str(count_categories_20190401))\n",
    "\n",
    "print(\"Number of normal pages for 20190320: \" + str(count_pages_20190320))\n",
    "print(\"Number of category pages for 20190320: \" + str(count_categories_20190320))\n",
    "\n",
    "print(\"Number of normal pages for 20190301: \" + str(count_pages_20190301))\n",
    "print(\"Number of category pages for 20190301: \" + str(count_categories_20190301))\n",
    "\n",
    "print(\"Number of normal pages for 20180801: \" + str(count_pages_20180801))\n",
    "print(\"Number of category pages for 20180801: \" + str(count_categories_20180801))"
   ]
  },
  {
   "cell_type": "code",
   "execution_count": 59,
   "metadata": {},
   "outputs": [
    {
     "data": {
      "text/plain": [
       "Text(0.5, 1.0, 'Pages')"
      ]
     },
     "execution_count": 59,
     "metadata": {},
     "output_type": "execute_result"
    },
    {
     "data": {
      "image/png": "[encoded data removed]",
      "text/plain": [
       "<Figure size 432x288 with 1 Axes>"
      ]
     },
     "metadata": {
      "needs_background": "light"
     },
     "output_type": "display_data"
    }
   ],
   "source": [
    "dates = ('20180801', '20190301', '20190320', '20190401', '20190420', '20190501', '20190520', '20190601')\n",
    "y_pos = np.arange(len(dates))\n",
    "counts = [count_pages_20180801, count_pages_20190301, count_pages_20190320, count_pages_20190401, count_pages_20190420, count_pages_20190501, count_pages_20190520, count_pages_20190601]\n",
    "\n",
    "plt.bar(y_pos, counts, align='center', alpha=0.5)\n",
    "plt.xticks(y_pos, dates)\n",
    "plt.ylabel('#Pages (log scale)')\n",
    "plt.yscale('log')\n",
    "plt.title('Pages')"
   ]
  },
  {
   "cell_type": "code",
   "execution_count": 60,
   "metadata": {},
   "outputs": [
    {
     "data": {
      "text/plain": [
       "Text(0.5, 1.0, 'Categories')"
      ]
     },
     "execution_count": 60,
     "metadata": {},
     "output_type": "execute_result"
    },
    {
     "data": {
      "image/png": "[encoded data removed]",
      "text/plain": [
       "<Figure size 432x288 with 1 Axes>"
      ]
     },
     "metadata": {
      "needs_background": "light"
     },
     "output_type": "display_data"
    }
   ],
   "source": [
    "counts = [count_categories_20180801, count_categories_20190301, count_categories_20190320, count_categories_20190401, count_categories_20190420, count_categories_20190501, count_categories_20190520, count_categories_20190601]\n",
    "\n",
    "plt.bar(y_pos, counts, align='center', alpha=0.5)\n",
    "plt.xticks(y_pos, dates)\n",
    "plt.ylabel('#Categories (log scale)')\n",
    "plt.yscale('log')\n",
    "plt.title('Categories')"
   ]
  },
  {
   "cell_type": "code",
   "execution_count": 6,
   "metadata": {},
   "outputs": [],
   "source": [
    "# read links into a DF\n",
    "\n",
    "pagelinks_20190601_df = sqlContext.read.parquet(DATA_PATH + \"20190601/pagelinks/*\")\n",
    "categorylinks_20190601_df = sqlContext.read.parquet(DATA_PATH + \"20190601/categorylinks/*\")\n",
    "\n",
    "pagelinks_20190520_df = sqlContext.read.parquet(DATA_PATH + \"20190520/pagelinks/*\")\n",
    "categorylinks_20190520_df = sqlContext.read.parquet(DATA_PATH + \"20190520/categorylinks/*\")\n",
    "\n",
    "pagelinks_20190501_df = sqlContext.read.parquet(DATA_PATH + \"20190501/pagelinks/*\")\n",
    "categorylinks_20190501_df = sqlContext.read.parquet(DATA_PATH + \"20190501/categorylinks/*\")\n",
    "\n",
    "pagelinks_20190420_df = sqlContext.read.parquet(DATA_PATH + \"20190420/pagelinks/*\")\n",
    "categorylinks_20190420_df = sqlContext.read.parquet(DATA_PATH + \"20190420/categorylinks/*\")\n",
    "\n",
    "pagelinks_20190401_df = sqlContext.read.parquet(DATA_PATH + \"20190401/pagelinks/*\")\n",
    "categorylinks_20190401_df = sqlContext.read.parquet(DATA_PATH + \"20190401/categorylinks/*\")\n",
    "\n",
    "pagelinks_20190320_df = sqlContext.read.parquet(DATA_PATH + \"20190320/pagelinks/*\")\n",
    "categorylinks_20190320_df = sqlContext.read.parquet(DATA_PATH + \"20190320/categorylinks/*\")\n",
    "\n",
    "pagelinks_20190301_df = sqlContext.read.parquet(DATA_PATH + \"20190301/pagelinks/*\")\n",
    "categorylinks_20190301_df = sqlContext.read.parquet(DATA_PATH + \"20190301/categorylinks/*\")\n",
    "\n",
    "pagelinks_20180801_df = sqlContext.read.parquet(DATA_PATH + \"20180801/pagelinks/*\")\n",
    "categorylinks_20180801_df = sqlContext.read.parquet(DATA_PATH + \"20180801/categorylinks/*\")"
   ]
  },
  {
   "cell_type": "code",
   "execution_count": 62,
   "metadata": {},
   "outputs": [],
   "source": [
    "count_pagelinks_20190601 = pagelinks_20190601_df.count()\n",
    "count_categorylinks_20190601 = categorylinks_20190601_df.count()\n",
    "\n",
    "count_pagelinks_20190520 = pagelinks_20190520_df.count()\n",
    "count_categorylinks_20190520 = categorylinks_20190520_df.count()\n",
    "\n",
    "count_pagelinks_20190501 = pagelinks_20190501_df.count()\n",
    "count_categorylinks_20190501 = categorylinks_20190501_df.count()\n",
    "\n",
    "count_pagelinks_20190420 = pagelinks_20190420_df.count()\n",
    "count_categorylinks_20190420 = categorylinks_20190420_df.count()\n",
    "\n",
    "count_pagelinks_20190401 = pagelinks_20190401_df.count()\n",
    "count_categorylinks_20190401 = categorylinks_20190401_df.count()\n",
    "\n",
    "count_pagelinks_20190320 = pagelinks_20190320_df.count()\n",
    "count_categorylinks_20190320 = categorylinks_20190320_df.count()\n",
    "\n",
    "count_pagelinks_20190301 = pagelinks_20190301_df.count()\n",
    "count_categorylinks_20190301 = categorylinks_20190301_df.count()\n",
    "\n",
    "count_pagelinks_20180801 = pagelinks_20180801_df.count()\n",
    "count_categorylinks_20180801 = categorylinks_20180801_df.count()"
   ]
  },
  {
   "cell_type": "code",
   "execution_count": 63,
   "metadata": {},
   "outputs": [
    {
     "name": "stdout",
     "output_type": "stream",
     "text": [
      "Number of pagelinks for 20190601: 484408612\n",
      "Number of categorylinks for 20190601: 66104475\n",
      "Number of pagelinks for 20190520: 483237508\n",
      "Number of categorylinks for 20190520: 65943209\n",
      "Number of pagelinks for 20190501: 481311258\n",
      "Number of categorylinks for 20190501: 65845422\n",
      "Number of pagelinks for 20190420: 480308241\n",
      "Number of categorylinks for 20190420: 65777079\n",
      "Number of pagelinks for 20190401: 478664986\n",
      "Number of categorylinks for 20190401: 65505520\n",
      "Number of pagelinks for 20190320: 477578102\n",
      "Number of categorylinks for 20190320: 65261669\n",
      "Number of pagelinks for 20190301: 475679782\n",
      "Number of categorylinks for 20190301: 64774515\n",
      "Number of pagelinks for 20180801: 456564006\n",
      "Number of categorylinks for 20180801: 60555403\n"
     ]
    }
   ],
   "source": [
    "print(\"Number of pagelinks for 20190601: \" + str(count_pagelinks_20190601))\n",
    "print(\"Number of categorylinks for 20190601: \" + str(count_categorylinks_20190601))\n",
    "\n",
    "print(\"Number of pagelinks for 20190520: \" + str(count_pagelinks_20190520))\n",
    "print(\"Number of categorylinks for 20190520: \" + str(count_categorylinks_20190520))\n",
    "\n",
    "print(\"Number of pagelinks for 20190501: \" + str(count_pagelinks_20190501))\n",
    "print(\"Number of categorylinks for 20190501: \" + str(count_categorylinks_20190501))\n",
    "\n",
    "print(\"Number of pagelinks for 20190420: \" + str(count_pagelinks_20190420))\n",
    "print(\"Number of categorylinks for 20190420: \" + str(count_categorylinks_20190420))\n",
    "\n",
    "print(\"Number of pagelinks for 20190401: \" + str(count_pagelinks_20190401))\n",
    "print(\"Number of categorylinks for 20190401: \" + str(count_categorylinks_20190401))\n",
    "\n",
    "print(\"Number of pagelinks for 20190320: \" + str(count_pagelinks_20190320))\n",
    "print(\"Number of categorylinks for 20190320: \" + str(count_categorylinks_20190320))\n",
    "\n",
    "print(\"Number of pagelinks for 20190301: \" + str(count_pagelinks_20190301))\n",
    "print(\"Number of categorylinks for 20190301: \" + str(count_categorylinks_20190301))\n",
    "\n",
    "print(\"Number of pagelinks for 20180801: \" + str(count_pagelinks_20180801))\n",
    "print(\"Number of categorylinks for 20180801: \" + str(count_categorylinks_20180801))"
   ]
  },
  {
   "cell_type": "code",
   "execution_count": 64,
   "metadata": {},
   "outputs": [
    {
     "data": {
      "text/plain": [
       "Text(0.5, 1.0, 'Pagelinks')"
      ]
     },
     "execution_count": 64,
     "metadata": {},
     "output_type": "execute_result"
    },
    {
     "data": {
      "image/png": "[encoded data removed]",
      "text/plain": [
       "<Figure size 432x288 with 1 Axes>"
      ]
     },
     "metadata": {
      "needs_background": "light"
     },
     "output_type": "display_data"
    }
   ],
   "source": [
    "counts = [count_pagelinks_20180801, count_pagelinks_20190301, count_pagelinks_20190320, count_pagelinks_20190401, count_pagelinks_20190420, count_pagelinks_20190501, count_pagelinks_20190520, count_pagelinks_20190601]\n",
    "\n",
    "plt.bar(y_pos, counts, align='center', alpha=0.5)\n",
    "plt.xticks(y_pos, dates)\n",
    "plt.ylabel('#Pagelinks (log scale)')\n",
    "plt.yscale('log')\n",
    "plt.title('Pagelinks')"
   ]
  },
  {
   "cell_type": "code",
   "execution_count": 65,
   "metadata": {},
   "outputs": [
    {
     "data": {
      "text/plain": [
       "Text(0.5, 1.0, 'Categorylinks')"
      ]
     },
     "execution_count": 65,
     "metadata": {},
     "output_type": "execute_result"
    },
    {
     "data": {
      "image/png": "[encoded data removed]",
      "text/plain": [
       "<Figure size 432x288 with 1 Axes>"
      ]
     },
     "metadata": {
      "needs_background": "light"
     },
     "output_type": "display_data"
    }
   ],
   "source": [
    "counts = [count_categorylinks_20180801, count_categorylinks_20190301, count_categorylinks_20190320, count_categorylinks_20190401, count_categorylinks_20190420, count_categorylinks_20190501, count_categorylinks_20190520, count_categorylinks_20190601]\n",
    "\n",
    "plt.bar(y_pos, counts, align='center', alpha=0.5)\n",
    "plt.xticks(y_pos, dates)\n",
    "plt.ylabel('#Categorylinks (log scale)')\n",
    "plt.yscale('log')\n",
    "plt.title('Categorylinks')"
   ]
  },
  {
   "cell_type": "markdown",
   "metadata": {},
   "source": [
    "## Extract delta graphs (Added_edges - Removed_edges)"
   ]
  },
  {
   "cell_type": "code",
   "execution_count": 7,
   "metadata": {},
   "outputs": [],
   "source": [
    "pagelinks_graph_t1 = pagelinks_20190301_df\n",
    "categorylinks_graph_t1 = categorylinks_20190301_df\n",
    "pages_graph_t1 = normal_pages_20190301_df\n",
    "categories_graph_t1 = category_pages_20190301_df\n",
    "\n",
    "pagelinks_graph_t2 = pagelinks_20190320_df\n",
    "categorylinks_graph_t2 = categorylinks_20190320_df\n",
    "pages_graph_t2 = normal_pages_20190320_df\n",
    "categories_graph_t2 = category_pages_20190320_df"
   ]
  },
  {
   "cell_type": "markdown",
   "metadata": {},
   "source": [
    "Pages"
   ]
  },
  {
   "cell_type": "code",
   "execution_count": 8,
   "metadata": {},
   "outputs": [
    {
     "data": {
      "text/plain": [
       "DataFrame[id: int, title: string, isRedirect: boolean, isNew: boolean]"
      ]
     },
     "execution_count": 8,
     "metadata": {},
     "output_type": "execute_result"
    }
   ],
   "source": [
    "added_pages = pages_graph_t2.subtract(pages_graph_t1)\n",
    "added_pages.cache()"
   ]
  },
  {
   "cell_type": "code",
   "execution_count": 9,
   "metadata": {},
   "outputs": [
    {
     "data": {
      "text/plain": [
       "DataFrame[id: int, title: string, isRedirect: boolean, isNew: boolean]"
      ]
     },
     "execution_count": 9,
     "metadata": {},
     "output_type": "execute_result"
    }
   ],
   "source": [
    "removed_pages = pages_graph_t1.subtract(pages_graph_t2)\n",
    "removed_pages.cache()"
   ]
  },
  {
   "cell_type": "code",
   "execution_count": 10,
   "metadata": {},
   "outputs": [],
   "source": [
    "added_pages_list = added_pages.select(\"id\").rdd.flatMap(lambda x: x).collect()\n",
    "removed_pages_list = removed_pages.select(\"id\").rdd.flatMap(lambda x: x).collect()"
   ]
  },
  {
   "cell_type": "code",
   "execution_count": 11,
   "metadata": {},
   "outputs": [
    {
     "data": {
      "text/plain": [
       "DataFrame[from: int, dest: int]"
      ]
     },
     "execution_count": 11,
     "metadata": {},
     "output_type": "execute_result"
    }
   ],
   "source": [
    "added_pagelinks = pagelinks_graph_t2.subtract(pagelinks_graph_t1)\n",
    "added_pagelinks.cache()"
   ]
  },
  {
   "cell_type": "code",
   "execution_count": 12,
   "metadata": {},
   "outputs": [
    {
     "data": {
      "text/plain": [
       "DataFrame[from: int, dest: int]"
      ]
     },
     "execution_count": 12,
     "metadata": {},
     "output_type": "execute_result"
    }
   ],
   "source": [
    "removed_pagelinks = pagelinks_graph_t1.subtract(pagelinks_graph_t2)\n",
    "removed_pagelinks.cache()"
   ]
  },
  {
   "cell_type": "code",
   "execution_count": 13,
   "metadata": {},
   "outputs": [
    {
     "name": "stdout",
     "output_type": "stream",
     "text": [
      "+----+--------+\n",
      "|from|    dest|\n",
      "+----+--------+\n",
      "| 303|52878007|\n",
      "| 872|  212031|\n",
      "| 872|  400421|\n",
      "|1081|52119515|\n",
      "|1146|  208413|\n",
      "|1239| 1218392|\n",
      "|1239|33013530|\n",
      "|2154|16182306|\n",
      "|2472|13933770|\n",
      "|2503|60245513|\n",
      "|2764|60276543|\n",
      "|2927|54044043|\n",
      "|3352|26641093|\n",
      "|3352|38872865|\n",
      "|3454|60267715|\n",
      "|3832|  340546|\n",
      "|3874| 1254082|\n",
      "|3874|22431775|\n",
      "|4371| 1697069|\n",
      "|4427| 4671895|\n",
      "+----+--------+\n",
      "only showing top 20 rows\n",
      "\n"
     ]
    }
   ],
   "source": [
    "added_pagelinks.show()"
   ]
  },
  {
   "cell_type": "code",
   "execution_count": 14,
   "metadata": {},
   "outputs": [],
   "source": [
    "added_pagelinks_new_pages = added_pagelinks[added_pagelinks[\"from\"].isin(added_pages_list) | added_pagelinks[\"dest\"].isin(added_pages_list)]"
   ]
  },
  {
   "cell_type": "code",
   "execution_count": 15,
   "metadata": {},
   "outputs": [],
   "source": [
    "removed_pagelinks_new_pages = removed_pagelinks[removed_pagelinks[\"from\"].isin(removed_pages_list) | removed_pagelinks[\"dest\"].isin(removed_pages_list)]"
   ]
  },
  {
   "cell_type": "code",
   "execution_count": 16,
   "metadata": {},
   "outputs": [
    {
     "data": {
      "text/plain": [
       "928874"
      ]
     },
     "execution_count": 16,
     "metadata": {},
     "output_type": "execute_result"
    }
   ],
   "source": [
    "added_pagelinks_new_pages.count()"
   ]
  },
  {
   "cell_type": "code",
   "execution_count": 17,
   "metadata": {},
   "outputs": [
    {
     "data": {
      "text/plain": [
       "143205"
      ]
     },
     "execution_count": 17,
     "metadata": {},
     "output_type": "execute_result"
    }
   ],
   "source": [
    "removed_pagelinks_new_pages.count()"
   ]
  },
  {
   "cell_type": "code",
   "execution_count": 76,
   "metadata": {},
   "outputs": [
    {
     "data": {
      "text/plain": [
       "2836077"
      ]
     },
     "execution_count": 76,
     "metadata": {},
     "output_type": "execute_result"
    }
   ],
   "source": [
    "# added_pagelinks.count()"
   ]
  },
  {
   "cell_type": "code",
   "execution_count": 112,
   "metadata": {},
   "outputs": [
    {
     "data": {
      "text/plain": [
       "937757"
      ]
     },
     "execution_count": 112,
     "metadata": {},
     "output_type": "execute_result"
    }
   ],
   "source": [
    "# removed_pagelinks.count()"
   ]
  },
  {
   "cell_type": "code",
   "execution_count": 18,
   "metadata": {},
   "outputs": [],
   "source": [
    "new_pages_with_links_list = list(set(added_pagelinks_new_pages.select(\"from\").rdd.flatMap(lambda x: x).collect() + added_pagelinks_new_pages.select(\"dest\").rdd.flatMap(lambda x: x).collect()))"
   ]
  },
  {
   "cell_type": "code",
   "execution_count": 19,
   "metadata": {},
   "outputs": [
    {
     "data": {
      "text/plain": [
       "326058"
      ]
     },
     "execution_count": 19,
     "metadata": {},
     "output_type": "execute_result"
    }
   ],
   "source": [
    "len(new_pages_with_links_list)"
   ]
  },
  {
   "cell_type": "code",
   "execution_count": 20,
   "metadata": {},
   "outputs": [],
   "source": [
    "# added_pages.repartition(1).write.csv('added_pages.csv')"
   ]
  },
  {
   "cell_type": "code",
   "execution_count": 21,
   "metadata": {},
   "outputs": [],
   "source": [
    "number_of_new_links_per_page = added_pagelinks_new_pages.groupby('from').count()"
   ]
  },
  {
   "cell_type": "code",
   "execution_count": 22,
   "metadata": {},
   "outputs": [],
   "source": [
    "# number_of_new_links_per_page.repartition(1).write.csv('link_count.csv')"
   ]
  },
  {
   "cell_type": "code",
   "execution_count": 23,
   "metadata": {},
   "outputs": [],
   "source": [
    "pages_links_count = number_of_new_links_per_page.join(added_pages, number_of_new_links_per_page['from'] == added_pages['id'])"
   ]
  },
  {
   "cell_type": "code",
   "execution_count": 24,
   "metadata": {},
   "outputs": [],
   "source": [
    "# pages_links_count.repartition(1).write.csv('new_pages_links_count.csv')"
   ]
  },
  {
   "cell_type": "code",
   "execution_count": 27,
   "metadata": {},
   "outputs": [],
   "source": [
    "# added_pagelinks_new_pages.repartition(1).write.csv('edge_list.csv')"
   ]
  },
  {
   "cell_type": "markdown",
   "metadata": {},
   "source": [
    "Categories"
   ]
  },
  {
   "cell_type": "code",
   "execution_count": 86,
   "metadata": {},
   "outputs": [
    {
     "data": {
      "text/plain": [
       "DataFrame[from: int, title: string, id: int, ctype: string]"
      ]
     },
     "execution_count": 86,
     "metadata": {},
     "output_type": "execute_result"
    }
   ],
   "source": [
    "added_categorylinks = categorylinks_graph_t2.subtract(categorylinks_graph_t1)\n",
    "added_categorylinks.cache()"
   ]
  },
  {
   "cell_type": "code",
   "execution_count": 87,
   "metadata": {},
   "outputs": [
    {
     "data": {
      "text/plain": [
       "DataFrame[from: int, title: string, id: int, ctype: string]"
      ]
     },
     "execution_count": 87,
     "metadata": {},
     "output_type": "execute_result"
    }
   ],
   "source": [
    "removed_categorylinks = categorylinks_graph_t1.subtract(categorylinks_graph_t2)\n",
    "removed_categorylinks.cache()"
   ]
  },
  {
   "cell_type": "code",
   "execution_count": 88,
   "metadata": {},
   "outputs": [
    {
     "data": {
      "text/plain": [
       "732113"
      ]
     },
     "execution_count": 88,
     "metadata": {},
     "output_type": "execute_result"
    }
   ],
   "source": [
    "added_categorylinks.count()"
   ]
  },
  {
   "cell_type": "code",
   "execution_count": 89,
   "metadata": {},
   "outputs": [
    {
     "data": {
      "text/plain": [
       "244959"
      ]
     },
     "execution_count": 89,
     "metadata": {},
     "output_type": "execute_result"
    }
   ],
   "source": [
    "removed_categorylinks.count()"
   ]
  },
  {
   "cell_type": "code",
   "execution_count": null,
   "metadata": {},
   "outputs": [],
   "source": []
  }
 ],
 "metadata": {
  "kernelspec": {
   "display_name": "Python 3",
   "language": "python",
   "name": "python3"
  },
  "language_info": {
   "codemirror_mode": {
    "name": "ipython",
    "version": 3
   },
   "file_extension": ".py",
   "mimetype": "text/x-python",
   "name": "python",
   "nbconvert_exporter": "python",
   "pygments_lexer": "ipython3",
   "version": "3.6.8"
  }
 },
 "nbformat": 4,
 "nbformat_minor": 2
}
